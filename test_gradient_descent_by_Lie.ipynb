{
 "cells": [
  {
   "cell_type": "code",
   "execution_count": 1,
   "id": "2415cfaa-c39f-4478-bb5f-5adabdce0214",
   "metadata": {},
   "outputs": [],
   "source": [
    "import numpy as np\n",
    "import matplotlib.pyplot as plt\n",
    "from scipy.linalg import expm\n",
    "from scipy.spatial.transform import Rotation as R\n",
    "import sympy\n",
    "from tqdm.notebook import trange"
   ]
  },
  {
   "cell_type": "markdown",
   "id": "e5b7cb20-1d09-4f55-a8a5-20e12b667608",
   "metadata": {},
   "source": [
    "# リー微分で簡単な勾配降下法を試す"
   ]
  },
  {
   "cell_type": "code",
   "execution_count": 2,
   "id": "550f639d-54cf-4ef2-9f84-30f2431daa2a",
   "metadata": {},
   "outputs": [],
   "source": [
    "roll = 30 #deg\n",
    "pitch = 20 #deg\n",
    "yaw = 10 #deg\n",
    "\n",
    "x = sympy.Symbol('x')\n",
    "y = sympy.Symbol('y')\n",
    "z = sympy.Symbol('z')\n",
    "a = sympy.Symbol('a')\n",
    "b = sympy.Symbol('b')\n",
    "c = sympy.Symbol('c')\n",
    "k = sympy.Symbol('k')\n",
    "l = sympy.Symbol('l')\n",
    "m = sympy.Symbol('m')\n",
    "\n",
    "\n",
    "phi = sympy.Matrix([a, b, c])\n",
    "p = sympy.Matrix([x, y, z])\n",
    "p2 = p.subs(x, 4).subs(y, 5).subs(z, 6)\n",
    "phi1 = phi.subs(a, np.deg2rad(roll)).subs(b, np.deg2rad(pitch)).subs(c, np.deg2rad(yaw))\n",
    "\n",
    "# SO(3)回転行列\n",
    "Rx = sympy.Matrix(\n",
    "    [[1, 0, 0],\n",
    "     [0, sympy.cos(a), -sympy.sin(a)], \n",
    "     [0, sympy.sin(a), sympy.cos(a)],\n",
    "    ]\n",
    ")\n",
    "Ry = sympy.Matrix(\n",
    "    [[sympy.cos(b), 0, sympy.sin(b)],\n",
    "     [0, 1, 0],\n",
    "     [-sympy.sin(b), 0, sympy.cos(b)]\n",
    "    ]\n",
    ")\n",
    "Rz = sympy.Matrix(\n",
    "    [[sympy.cos(c), -sympy.sin(c), 0],\n",
    "     [sympy.sin(c), sympy.cos(c), 0],\n",
    "     [0, 0, 1]\n",
    "    ]\n",
    ")\n",
    "# print(\"目標回転行列:\")\n",
    "rot = Rz*Ry*Rx\n",
    "rot1 = sympy.trigsimp(rot.subs(a, phi1[0]).subs(b, phi1[1]).subs(c, phi1[2]))\n",
    "# display(rot1)\n",
    "\n",
    "A = sympy.Matrix([[0, -m, l],[m, 0, -k], [-l, k, 0]])\n",
    "p2_wedge = sympy.matrix2numpy(A.subs(k, p2[0]).subs(l, p2[1]).subs(m, p2[2]))\n",
    "p1 = sympy.matrix2numpy((rot*p2).subs(a, phi1[0]).subs(b, phi1[1]).subs(c, phi1[2]))\n",
    "p2 = sympy.matrix2numpy(p2)"
   ]
  },
  {
   "cell_type": "markdown",
   "id": "318d423e-31d7-4c06-b6a2-af6d1be18d28",
   "metadata": {},
   "source": [
    "$\\def\\bm{\\boldsymbol}$\n",
    "$L=||p_1 - R(\\bm{\\theta})p_2||^2$の勾配を使って適当な$\\bm{\\theta}$から$L$を最小化する$\\bm{\\theta}$を獲得してみる\n",
    "\n",
    "勾配は\n",
    "$$\n",
    "\\nabla L = p_1^T R(\\bm{\\theta})[p_2]_{\\times}\n",
    "$$"
   ]
  },
  {
   "cell_type": "code",
   "execution_count": 14,
   "id": "db043392-2f61-4579-914f-8cd8d6d4d7a2",
   "metadata": {},
   "outputs": [
    {
     "name": "stdout",
     "output_type": "stream",
     "text": [
      "初期回転ベクトル:[1. 1. 1.]\n"
     ]
    },
    {
     "data": {
      "application/vnd.jupyter.widget-view+json": {
       "model_id": "e9db614ec9e04b57bd7d9e99aee8017d",
       "version_major": 2,
       "version_minor": 0
      },
      "text/plain": [
       "  0%|          | 0/1000 [00:00<?, ?it/s]"
      ]
     },
     "metadata": {},
     "output_type": "display_data"
    }
   ],
   "source": [
    "alpha = 0.01\n",
    "omega = np.ones(3)\n",
    "print(\"初期回転ベクトル:{}\".format(omega))\n",
    "# 勾配降下法\n",
    "for i in trange(1000):\n",
    "    rot = R.from_rotvec(omega)\n",
    "    d_theta = -alpha * p1.T @ rot.as_matrix().reshape(3,3) @ p2_wedge\n",
    "    tmp = R.from_rotvec(d_theta)\n",
    "    tmp = tmp.as_matrix() @ rot.as_matrix()\n",
    "    tmp = R.from_matrix(tmp)\n",
    "    omega = tmp.as_rotvec()"
   ]
  },
  {
   "cell_type": "code",
   "execution_count": 15,
   "id": "4f05fbd4-bb94-4a5f-a76e-14def1df8357",
   "metadata": {},
   "outputs": [
    {
     "name": "stdout",
     "output_type": "stream",
     "text": [
      "収束後回転ベクトル:[0.4303644  0.3436757  0.00758861]\n"
     ]
    }
   ],
   "source": [
    "print(\"収束後回転ベクトル:{}\".format(omega[0]))"
   ]
  },
  {
   "cell_type": "code",
   "execution_count": 16,
   "id": "51bedbff-0c52-4a64-82b7-fd2c740e5036",
   "metadata": {},
   "outputs": [
    {
     "data": {
      "text/plain": [
       "array([[6.06294170799353],\n",
       "       [2.41970657778377],\n",
       "       [5.86393706675834]], dtype=object)"
      ]
     },
     "execution_count": 16,
     "metadata": {},
     "output_type": "execute_result"
    }
   ],
   "source": [
    "rot_disented = R.from_rotvec(omega[0]).as_matrix()\n",
    "rot_disented @ p2"
   ]
  },
  {
   "cell_type": "code",
   "execution_count": 17,
   "id": "8b206d68-903b-48f7-9063-e7e161a07aca",
   "metadata": {},
   "outputs": [
    {
     "data": {
      "text/plain": [
       "array([[6.06294170799353],\n",
       "       [2.41970657778377],\n",
       "       [5.86393706675834]], dtype=object)"
      ]
     },
     "execution_count": 17,
     "metadata": {},
     "output_type": "execute_result"
    }
   ],
   "source": [
    "p1"
   ]
  },
  {
   "cell_type": "code",
   "execution_count": 18,
   "id": "bdc3bed9-19a7-45bf-ba2c-ad1316fd0a8b",
   "metadata": {},
   "outputs": [
    {
     "data": {
      "text/plain": [
       "array([[0],\n",
       "       [0],\n",
       "       [1.77635683940025e-15]], dtype=object)"
      ]
     },
     "execution_count": 18,
     "metadata": {},
     "output_type": "execute_result"
    }
   ],
   "source": [
    "p1 - rot_disented @ p2"
   ]
  },
  {
   "cell_type": "markdown",
   "id": "b34fe369-83ba-491f-a275-df767d090cfe",
   "metadata": {},
   "source": [
    "p2をp1に移す回転ベクトルに収束した！"
   ]
  },
  {
   "cell_type": "code",
   "execution_count": 19,
   "id": "f4b67b8f-5e4f-4a2e-b2ac-757c434c2169",
   "metadata": {},
   "outputs": [
    {
     "name": "stdout",
     "output_type": "stream",
     "text": [
      "[0.48647923 0.38485157 0.07752532]\n",
      "[0.4303644  0.3436757  0.00758861]\n"
     ]
    }
   ],
   "source": [
    "print(R.from_matrix(rot1).as_rotvec())\n",
    "print(omega[0])"
   ]
  },
  {
   "cell_type": "markdown",
   "id": "1fe29cd2-2edc-4b34-9a59-56ada2e05171",
   "metadata": {},
   "source": [
    "ただし、回転ベクトル自体は$L$の計算に使ったものとは違う値になってる"
   ]
  },
  {
   "cell_type": "markdown",
   "id": "5cbb01a0-e978-47d0-883f-edbeebf2a086",
   "metadata": {},
   "source": [
    "2点でコストを定義すると、元の回転ベクトルに収束するとのことで試す↓"
   ]
  },
  {
   "cell_type": "code",
   "execution_count": 21,
   "id": "234559b4-6ba1-4522-b805-4699ffaebe1a",
   "metadata": {},
   "outputs": [],
   "source": [
    "p4 = p.subs(x, 7).subs(y, 8).subs(z, 9)\n",
    "p4_wedge = sympy.matrix2numpy(A.subs(k, p4[0]).subs(l, p4[1]).subs(m, p4[2]))"
   ]
  },
  {
   "cell_type": "code",
   "execution_count": 22,
   "id": "76b95d40-7687-4815-b7d6-f261feaec941",
   "metadata": {},
   "outputs": [],
   "source": [
    "p3 = sympy.matrix2numpy(rot1 @ p4)"
   ]
  },
  {
   "cell_type": "code",
   "execution_count": 23,
   "id": "2c40cecc-f892-4a17-ac0c-6a337af98095",
   "metadata": {},
   "outputs": [
    {
     "name": "stdout",
     "output_type": "stream",
     "text": [
      "初期回転ベクトル:[1. 1. 1.]\n"
     ]
    },
    {
     "data": {
      "application/vnd.jupyter.widget-view+json": {
       "model_id": "6e8845d1d950442eafede5d0cf7c613e",
       "version_major": 2,
       "version_minor": 0
      },
      "text/plain": [
       "  0%|          | 0/6000 [00:00<?, ?it/s]"
      ]
     },
     "metadata": {},
     "output_type": "display_data"
    }
   ],
   "source": [
    "alpha = 0.005\n",
    "omega = np.ones(3)\n",
    "\n",
    "print(\"初期回転ベクトル:{}\".format(omega))\n",
    "# 勾配降下法\n",
    "for i in trange(6000):\n",
    "    rot = R.from_rotvec(omega)\n",
    "    d_theta = -alpha * (p1.T @ rot.as_matrix().reshape(3,3) @ p2_wedge + p3.T @ rot.as_matrix().reshape(3,3) @ p4_wedge)\n",
    "    tmp = R.from_rotvec(d_theta)\n",
    "    tmp = tmp.as_matrix() @ rot.as_matrix()\n",
    "    tmp = R.from_matrix(tmp)\n",
    "    omega = tmp.as_rotvec()"
   ]
  },
  {
   "cell_type": "code",
   "execution_count": 24,
   "id": "2384f88c-7f9f-4e21-a8ae-f66fcd7073dd",
   "metadata": {},
   "outputs": [
    {
     "name": "stdout",
     "output_type": "stream",
     "text": [
      "[0.48647923 0.38485157 0.07752532]\n",
      "[0.48565578 0.38426023 0.0765845 ]\n"
     ]
    }
   ],
   "source": [
    "print(R.from_matrix(rot1).as_rotvec())\n",
    "print(omega[0])"
   ]
  },
  {
   "cell_type": "markdown",
   "id": "186b1ece-c12d-4f99-be61-d7bf628e6521",
   "metadata": {},
   "source": [
    "おんなじ（くらいの）値になった！！"
   ]
  },
  {
   "cell_type": "code",
   "execution_count": 27,
   "id": "8a553872-4e72-4632-aa1a-45699760e394",
   "metadata": {},
   "outputs": [
    {
     "data": {
      "application/vnd.jupyter.widget-view+json": {
       "model_id": "420c69a7433e4ebdbad7516ef77ccfbd",
       "version_major": 2,
       "version_minor": 0
      },
      "text/plain": [
       "  0%|          | 0/6000 [00:00<?, ?it/s]"
      ]
     },
     "metadata": {},
     "output_type": "display_data"
    }
   ],
   "source": [
    "# 実はこれでもいけるし計算速い\n",
    "omega = np.ones(3)\n",
    "rot = R.from_rotvec(omega)\n",
    "for i in trange(6000):\n",
    "    d_theta = -alpha * (p1.T @ rot.as_matrix().reshape(3,3) @ p2_wedge + p3.T @ rot.as_matrix().reshape(3,3) @ p4_wedge)\n",
    "    rot = R.from_rotvec(d_theta) * rot\n",
    "omega = rot.as_rotvec()"
   ]
  },
  {
   "cell_type": "code",
   "execution_count": 28,
   "id": "7715e273-0cfc-45ae-91b5-eb8fb605d183",
   "metadata": {},
   "outputs": [
    {
     "data": {
      "text/plain": [
       "array([[0.48565578, 0.38426023, 0.0765845 ]])"
      ]
     },
     "execution_count": 28,
     "metadata": {},
     "output_type": "execute_result"
    }
   ],
   "source": [
    "omega"
   ]
  },
  {
   "cell_type": "code",
   "execution_count": null,
   "id": "6313cfe8-3a1e-4c36-bc69-bd5e05b46efa",
   "metadata": {},
   "outputs": [],
   "source": []
  }
 ],
 "metadata": {
  "kernelspec": {
   "display_name": "Python 3 (ipykernel)",
   "language": "python",
   "name": "python3"
  },
  "language_info": {
   "codemirror_mode": {
    "name": "ipython",
    "version": 3
   },
   "file_extension": ".py",
   "mimetype": "text/x-python",
   "name": "python",
   "nbconvert_exporter": "python",
   "pygments_lexer": "ipython3",
   "version": "3.11.2"
  }
 },
 "nbformat": 4,
 "nbformat_minor": 5
}
