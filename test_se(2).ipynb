{
 "cells": [
  {
   "cell_type": "code",
   "execution_count": 1,
   "id": "8dec8d01-2927-4ded-a74e-db3835a421f3",
   "metadata": {},
   "outputs": [],
   "source": [
    "import numpy as np\n",
    "import matplotlib.pyplot as plt\n",
    "from scipy.linalg import expm\n",
    "import sympy"
   ]
  },
  {
   "cell_type": "markdown",
   "id": "caa515d7-5d30-43fc-927e-bd1f42b494f4",
   "metadata": {},
   "source": [
    "$\\def\\bm{\\boldsymbol}$\n",
    "# リー群の１種、SE(2)での座標変換に使ってみるリー代数\n",
    "- 定数ベクトル$\\bm{p}$に対しリー代数$X$をかける事で微分方程式を作れる\n",
    "$$\n",
    "\\dot{\\bm{p}}(t) = X\\bm{p}(t)\n",
    "$$\n",
    "- これで速度がわかるが、単位時刻を掛けて移動したと考えれば、そのまま座標変換として使える"
   ]
  },
  {
   "cell_type": "code",
   "execution_count": 2,
   "id": "3fb057c1-3400-4f4b-ad62-5baed61cdc21",
   "metadata": {},
   "outputs": [
    {
     "name": "stdout",
     "output_type": "stream",
     "text": [
      "SE(2):\n"
     ]
    },
    {
     "data": {
      "text/latex": [
       "$\\displaystyle \\left[\\begin{matrix}\\cos{\\left(\\theta \\right)} & - \\sin{\\left(\\theta \\right)} & x\\\\\\sin{\\left(\\theta \\right)} & \\cos{\\left(\\theta \\right)} & y\\\\0 & 0 & 1\\end{matrix}\\right]$"
      ],
      "text/plain": [
       "Matrix([\n",
       "[cos(theta), -sin(theta), x],\n",
       "[sin(theta),  cos(theta), y],\n",
       "[         0,           0, 1]])"
      ]
     },
     "metadata": {},
     "output_type": "display_data"
    }
   ],
   "source": [
    "theta_deg_1 = 30 #deg\n",
    "v_1 = np.array([1, 2])\n",
    "theta_deg_2 = 20 #deg\n",
    "v_2 = np.array([3, 4])\n",
    "\n",
    "theta1 = np.deg2rad(theta_deg_1) #rad\n",
    "theta2 = np.deg2rad(theta_deg_2) #rad\n",
    "x = sympy.Symbol('x')\n",
    "y = sympy.Symbol('y')\n",
    "theta = sympy.Symbol('theta')\n",
    "\n",
    "# 変換行列\n",
    "mat = sympy.Matrix(\n",
    "    [[sympy.cos(theta), -sympy.sin(theta), x], \n",
    "     [sympy.sin(theta), sympy.cos(theta), y],\n",
    "    [0, 0, 1]]\n",
    ")\n",
    "print(\"SE(2):\")\n",
    "display(mat)\n",
    "\n",
    "mat1 = sympy.matrix2numpy(mat.subs([(theta,theta1), (x, v_1[0]), (y, v_1[1])])).astype(float)# 変換行列1\n",
    "mat2 = sympy.matrix2numpy(mat.subs([(theta,theta2), (x, v_2[0]), (y, v_2[1])])).astype(float)# 変換行列2"
   ]
  },
  {
   "cell_type": "markdown",
   "id": "f322eb8b-c357-45c6-8e8c-81f06f4da941",
   "metadata": {},
   "source": [
    "## SE(2)のリー代数の基底\n",
    "単位元は、回転1軸、並進２軸\n",
    "$$\n",
    "\\begin{bmatrix}\n",
    "   \\cos(t) & -\\sin(t) & 0 \\\\\n",
    "   \\sin(t) & \\cos(t) & 0 \\\\\n",
    "    0 & 0 & 1\n",
    "\\end{bmatrix},\n",
    "\\begin{bmatrix}\n",
    "   1 & 0 & t \\\\\n",
    "   0 & 1 & 0 \\\\\n",
    "    0 & 0 & 1\n",
    "\\end{bmatrix},\n",
    "\\begin{bmatrix}\n",
    "   1 & 0 & 0 \\\\\n",
    "   0 & 1 & t \\\\\n",
    "    0 & 0 & 1\n",
    "\\end{bmatrix}\n",
    "$$\n",
    "\n",
    "$t=0$で微分して\n",
    "$$\n",
    "\\begin{bmatrix}\n",
    "   0 & -1 & 0 \\\\\n",
    "   1 & 0 & 0 \\\\\n",
    "   0 & 0 & 0\n",
    "\\end{bmatrix},\n",
    "\\begin{bmatrix}\n",
    "   0 & 0 & 1 \\\\\n",
    "   0 & 0 & 0 \\\\\n",
    "   0 & 0 & 0\n",
    "\\end{bmatrix},\n",
    "\\begin{bmatrix}\n",
    "   0 & 0 & 0 \\\\\n",
    "   0 & 0 & 1 \\\\\n",
    "   0 & 0 & 0\n",
    "\\end{bmatrix}\n",
    "$$\n",
    "\n",
    "## ベクトル表示のパラメータ\n",
    "回転して並進するというのがSE(2)の剛体変換であるが、\n",
    "リー代数の空間で回転しながら旋回するみたいな事をするので、そのへんの辻褄を合わせてパラメータ(基底にかかる係数)を決める必要がある\n",
    "\n",
    "パラメータ$\\bm{\\tau}=[\\theta~~\\bm{\\rho}]^T \\in \\mathbb{R}^3$は以下を満たす\n",
    "$$\n",
    "Exp([\\bm{\\tau]_\\wedge})= \n",
    "\\begin{bmatrix}\n",
    "   Exp([\\theta]_\\wedge]) & V(\\theta)\\bm{\\rho}  \\\\\n",
    "   \\bm{0} & 1  \n",
    "\\end{bmatrix}\\\\\n",
    "$$\n",
    "ただし、\n",
    "$$\n",
    "V(\\theta)=\\frac{\\sin\\theta}{\\theta}I+\\frac{1-\\cos \\theta}{\\theta} \\frac{[\\theta]_\\wedge}{\\theta}\n",
    "$$"
   ]
  },
  {
   "cell_type": "code",
   "execution_count": 3,
   "id": "e001e268-2c1d-43ef-bcdd-e82e411a2f6a",
   "metadata": {},
   "outputs": [
    {
     "name": "stdout",
     "output_type": "stream",
     "text": [
      "bases:\n"
     ]
    },
    {
     "data": {
      "text/latex": [
       "$\\displaystyle \\left[\\begin{matrix}0 & -1 & 0\\\\1 & 0 & 0\\\\0 & 0 & 0\\end{matrix}\\right]$"
      ],
      "text/plain": [
       "Matrix([\n",
       "[0, -1, 0],\n",
       "[1,  0, 0],\n",
       "[0,  0, 0]])"
      ]
     },
     "metadata": {},
     "output_type": "display_data"
    },
    {
     "data": {
      "text/latex": [
       "$\\displaystyle \\left[\\begin{matrix}0 & 0 & 1\\\\0 & 0 & 0\\\\0 & 0 & 0\\end{matrix}\\right]$"
      ],
      "text/plain": [
       "Matrix([\n",
       "[0, 0, 1],\n",
       "[0, 0, 0],\n",
       "[0, 0, 0]])"
      ]
     },
     "metadata": {},
     "output_type": "display_data"
    },
    {
     "data": {
      "text/latex": [
       "$\\displaystyle \\left[\\begin{matrix}0 & 0 & 0\\\\0 & 0 & 1\\\\0 & 0 & 0\\end{matrix}\\right]$"
      ],
      "text/plain": [
       "Matrix([\n",
       "[0, 0, 0],\n",
       "[0, 0, 1],\n",
       "[0, 0, 0]])"
      ]
     },
     "metadata": {},
     "output_type": "display_data"
    },
    {
     "name": "stdout",
     "output_type": "stream",
     "text": [
      "Lie algebra1:\n",
      "[[ 0.         -0.52359878  1.50064739]\n",
      " [ 0.52359878  0.          1.69229785]\n",
      " [ 0.          0.          0.        ]] \n",
      "Lie algebra2:\n",
      "[[ 0.         -0.34906585  3.66760792]\n",
      " [ 0.34906585  0.          3.43570285]\n",
      " [ 0.          0.          0.        ]]\n"
     ]
    }
   ],
   "source": [
    "#基底を計算\n",
    "K = sympy.diff(mat, theta).subs(theta, 0)#thetaで微分して0を代入\n",
    "L = sympy.diff(mat, x)#xで微分\n",
    "M = sympy.diff(mat, y)#yで微分\n",
    "print(\"bases:\")\n",
    "display(K,L,M)\n",
    "\n",
    "K = sympy.matrix2numpy(K).astype(float)\n",
    "L = sympy.matrix2numpy(L).astype(float)\n",
    "M = sympy.matrix2numpy(M).astype(float)\n",
    "\n",
    "# リー代数を計算\n",
    "\n",
    "V1 = np.sin(theta1)/theta1 * np.eye(2) + (1 - np.cos(theta1))/theta1 * K[:-1, :-1]\n",
    "rho1 = np.linalg.inv(V1) @ v_1\n",
    "alg1 = theta1 * K + rho1[0] * L + rho1[1] * M\n",
    "\n",
    "V2 = np.sin(theta2)/theta2 * np.eye(2) + (1 - np.cos(theta2))/theta2 * K[:-1, :-1]\n",
    "rho2 = np.linalg.inv(V2) @ v_2\n",
    "alg2 = theta2 * K + rho2[0] * L + rho2[1] * M\n",
    "\n",
    "print(\"Lie algebra1:\\n{} \\nLie algebra2:\\n{}\".format(alg1,alg2))\n",
    "\n",
    "# SO(2)とR^2に分けてみたもの\n",
    "alg1_rot = theta1 * K\n",
    "alg1_tr = v_1[0] * L + v_1[1] * M\n",
    "alg2_rot = theta2 * K\n",
    "alg2_tr = v_2[0] * L + v_2[1] * M"
   ]
  },
  {
   "cell_type": "code",
   "execution_count": 4,
   "id": "f5d66a37-7ef2-4707-a264-3627add79caa",
   "metadata": {},
   "outputs": [
    {
     "data": {
      "text/plain": [
       "array([[ 0.8660254, -0.5      ,  1.       ],\n",
       "       [ 0.5      ,  0.8660254,  2.       ],\n",
       "       [ 0.       ,  0.       ,  1.       ]])"
      ]
     },
     "execution_count": 4,
     "metadata": {},
     "output_type": "execute_result"
    }
   ],
   "source": [
    "mat1"
   ]
  },
  {
   "cell_type": "code",
   "execution_count": 5,
   "id": "1f013f57-40b8-4beb-8004-72cbaac18d05",
   "metadata": {},
   "outputs": [
    {
     "data": {
      "text/plain": [
       "array([[ 0.93969262, -0.34202014,  3.        ],\n",
       "       [ 0.34202014,  0.93969262,  4.        ],\n",
       "       [ 0.        ,  0.        ,  1.        ]])"
      ]
     },
     "execution_count": 5,
     "metadata": {},
     "output_type": "execute_result"
    }
   ],
   "source": [
    "mat2"
   ]
  },
  {
   "cell_type": "code",
   "execution_count": 6,
   "id": "7a019eaa-a3e0-4d3e-837d-2b09d0128a2e",
   "metadata": {},
   "outputs": [
    {
     "data": {
      "text/plain": [
       "array([[ 0.8660254, -0.5      ,  1.       ],\n",
       "       [ 0.5      ,  0.8660254,  2.       ],\n",
       "       [ 0.       ,  0.       ,  1.       ]])"
      ]
     },
     "execution_count": 6,
     "metadata": {},
     "output_type": "execute_result"
    }
   ],
   "source": [
    "# 指数写像して戻したものを確認\n",
    "expm(alg1)"
   ]
  },
  {
   "cell_type": "code",
   "execution_count": 7,
   "id": "4bda6ebf-b644-4443-9ea7-2ac9ea383412",
   "metadata": {},
   "outputs": [
    {
     "data": {
      "text/plain": [
       "array([[ 9.39692621e-01, -3.42020143e-01,  3.00000000e+00],\n",
       "       [ 3.42020143e-01,  9.39692621e-01,  4.00000000e+00],\n",
       "       [-3.12250226e-17, -2.77555756e-17,  1.00000000e+00]])"
      ]
     },
     "execution_count": 7,
     "metadata": {},
     "output_type": "execute_result"
    }
   ],
   "source": [
    "expm(alg2)"
   ]
  },
  {
   "cell_type": "markdown",
   "id": "7f672dde-3250-4e68-b821-e23e468f72de",
   "metadata": {},
   "source": [
    "一致した！！"
   ]
  },
  {
   "cell_type": "code",
   "execution_count": 15,
   "id": "78a4d7ca-1586-4265-a6e8-179ee2f10353",
   "metadata": {},
   "outputs": [
    {
     "data": {
      "text/plain": [
       "array([[ 0.8660254, -0.5      ,  1.       ],\n",
       "       [ 0.5      ,  0.8660254,  2.       ],\n",
       "       [ 0.       ,  0.       ,  1.       ]])"
      ]
     },
     "execution_count": 15,
     "metadata": {},
     "output_type": "execute_result"
    }
   ],
   "source": [
    "# SO(2)とR^2に分けてみたもの\n",
    "expm(alg1_tr)@expm(alg1_rot) #回転と並進の順番は注意"
   ]
  },
  {
   "cell_type": "code",
   "execution_count": 9,
   "id": "26686cfc-4bc8-4d82-a912-d7f5c9536c7b",
   "metadata": {},
   "outputs": [
    {
     "data": {
      "text/plain": [
       "array([[ 0.93969262, -0.34202014,  3.        ],\n",
       "       [ 0.34202014,  0.93969262,  4.        ],\n",
       "       [ 0.        ,  0.        ,  1.        ]])"
      ]
     },
     "execution_count": 9,
     "metadata": {},
     "output_type": "execute_result"
    }
   ],
   "source": [
    "expm(alg2_tr)@expm(alg2_rot)"
   ]
  },
  {
   "cell_type": "markdown",
   "id": "160f53de-4a46-4646-95b4-ca4a6b430805",
   "metadata": {},
   "source": [
    "## 可視化してみる"
   ]
  },
  {
   "cell_type": "code",
   "execution_count": 10,
   "id": "5f8eddbf-4f74-4c0c-81cb-25cb43e3eea5",
   "metadata": {},
   "outputs": [],
   "source": [
    "def draw_vec(p, q, xlim=5, ylim=6):\n",
    "    o = np.array([0, 0])\n",
    "    vector = [(o, p, 'b'), (o, q, 'r' )]\n",
    "    fig ,ax= plt.subplots(figsize=(xlim,ylim)) \n",
    "    for tail, head, color in vector:\n",
    "        ax.quiver(*tail,*head,\n",
    "                   color=color, units='xy', scale=1,linestyles='dashed',  linewidth=1)\n",
    "    ax.set_xlim(0, xlim)\n",
    "    ax.set_ylim(0, ylim)\n",
    "    plt.grid()\n",
    "    plt.show()"
   ]
  },
  {
   "cell_type": "code",
   "execution_count": 11,
   "id": "7c443baf-bd41-4ac0-8fd5-2e1811e9c860",
   "metadata": {},
   "outputs": [
    {
     "data": {
      "image/png": "[encoded data removed]",
      "text/plain": [
       "<Figure size 500x600 with 1 Axes>"
      ]
     },
     "metadata": {},
     "output_type": "display_data"
    }
   ],
   "source": [
    "p = np.array([3, 2, 1])# 写像元ベクトル\n",
    "\n",
    "q1 = (mat1 @ p )[:-1]\n",
    "draw_vec(p, q1)"
   ]
  },
  {
   "cell_type": "code",
   "execution_count": 12,
   "id": "16bed11a-d36d-4d8d-81f4-79ae9fb20e9b",
   "metadata": {},
   "outputs": [
    {
     "data": {
      "image/png": "[encoded data removed]",
      "text/plain": [
       "<Figure size 500x600 with 1 Axes>"
      ]
     },
     "metadata": {},
     "output_type": "display_data"
    }
   ],
   "source": [
    "q2 = (expm(alg1) @ p )[:-1]\n",
    "draw_vec(p, q2)"
   ]
  },
  {
   "cell_type": "code",
   "execution_count": 13,
   "id": "7d4a6926-88c3-48fd-b74e-6001dbeb6025",
   "metadata": {},
   "outputs": [
    {
     "data": {
      "image/png": "[encoded data removed]",
      "text/plain": [
       "<Figure size 500x1000 with 1 Axes>"
      ]
     },
     "metadata": {},
     "output_type": "display_data"
    }
   ],
   "source": [
    "q3 = (mat2 @ mat1 @ p )[:-1]\n",
    "draw_vec(p, q3, 5, 10)"
   ]
  },
  {
   "cell_type": "code",
   "execution_count": 14,
   "id": "ac473997-dea7-401e-8be3-5e9dc2d91455",
   "metadata": {},
   "outputs": [
    {
     "data": {
      "image/png": "[encoded data removed]",
      "text/plain": [
       "<Figure size 500x1000 with 1 Axes>"
      ]
     },
     "metadata": {},
     "output_type": "display_data"
    }
   ],
   "source": [
    "q4 = (expm(alg2)@expm(alg1) @ p )[:-1]\n",
    "draw_vec(p, q4, 5, 10)"
   ]
  },
  {
   "cell_type": "code",
   "execution_count": null,
   "id": "f2d72d4e-718c-4e75-b18a-8928eec0fe4f",
   "metadata": {},
   "outputs": [],
   "source": []
  }
 ],
 "metadata": {
  "kernelspec": {
   "display_name": "Python 3 (ipykernel)",
   "language": "python",
   "name": "python3"
  },
  "language_info": {
   "codemirror_mode": {
    "name": "ipython",
    "version": 3
   },
   "file_extension": ".py",
   "mimetype": "text/x-python",
   "name": "python",
   "nbconvert_exporter": "python",
   "pygments_lexer": "ipython3",
   "version": "3.11.2"
  }
 },
 "nbformat": 4,
 "nbformat_minor": 5
}
