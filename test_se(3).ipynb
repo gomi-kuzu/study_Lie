{
 "cells": [
  {
   "cell_type": "code",
   "execution_count": 1,
   "id": "8dec8d01-2927-4ded-a74e-db3835a421f3",
   "metadata": {},
   "outputs": [],
   "source": [
    "import numpy as np\n",
    "import matplotlib.pyplot as plt\n",
    "from scipy.linalg import expm,logm\n",
    "from scipy.spatial.transform import Rotation\n",
    "import sympy"
   ]
  },
  {
   "cell_type": "markdown",
   "id": "caa515d7-5d30-43fc-927e-bd1f42b494f4",
   "metadata": {},
   "source": [
    "$\\def\\bm{\\boldsymbol}$\n",
    "# リー群の１種、SE(3)での座標変換に使ってみるリー代数\n",
    "- 定数ベクトル$\\bm{p}$に対しリー代数$X$をかける事で微分方程式を作れる\n",
    "$$\n",
    "\\dot{\\bm{p}}(t) = X\\bm{p}(t)\n",
    "$$\n",
    "- これで速度がわかるが、単位時刻を掛けて移動したと考えれば、そのまま座標変換として使える"
   ]
  },
  {
   "cell_type": "code",
   "execution_count": 2,
   "id": "3fb057c1-3400-4f4b-ad62-5baed61cdc21",
   "metadata": {},
   "outputs": [
    {
     "name": "stdout",
     "output_type": "stream",
     "text": [
      "ZYXオイラー:\n"
     ]
    },
    {
     "data": {
      "text/latex": [
       "$\\displaystyle \\left[\\begin{matrix}\\cos{\\left(b \\right)} \\cos{\\left(c \\right)} & \\sin{\\left(a \\right)} \\sin{\\left(b \\right)} \\cos{\\left(c \\right)} - \\sin{\\left(c \\right)} \\cos{\\left(a \\right)} & \\sin{\\left(a \\right)} \\sin{\\left(c \\right)} + \\sin{\\left(b \\right)} \\cos{\\left(a \\right)} \\cos{\\left(c \\right)}\\\\\\sin{\\left(c \\right)} \\cos{\\left(b \\right)} & \\sin{\\left(a \\right)} \\sin{\\left(b \\right)} \\sin{\\left(c \\right)} + \\cos{\\left(a \\right)} \\cos{\\left(c \\right)} & - \\sin{\\left(a \\right)} \\cos{\\left(c \\right)} + \\sin{\\left(b \\right)} \\sin{\\left(c \\right)} \\cos{\\left(a \\right)}\\\\- \\sin{\\left(b \\right)} & \\sin{\\left(a \\right)} \\cos{\\left(b \\right)} & \\cos{\\left(a \\right)} \\cos{\\left(b \\right)}\\end{matrix}\\right]$"
      ],
      "text/plain": [
       "Matrix([\n",
       "[cos(b)*cos(c), sin(a)*sin(b)*cos(c) - sin(c)*cos(a),  sin(a)*sin(c) + sin(b)*cos(a)*cos(c)],\n",
       "[sin(c)*cos(b), sin(a)*sin(b)*sin(c) + cos(a)*cos(c), -sin(a)*cos(c) + sin(b)*sin(c)*cos(a)],\n",
       "[      -sin(b),                        sin(a)*cos(b),                         cos(a)*cos(b)]])"
      ]
     },
     "metadata": {},
     "output_type": "display_data"
    },
    {
     "name": "stdout",
     "output_type": "stream",
     "text": [
      "同次変換行列:\n"
     ]
    },
    {
     "data": {
      "text/latex": [
       "$\\displaystyle \\left[\\begin{matrix}\\cos{\\left(b \\right)} \\cos{\\left(c \\right)} & \\sin{\\left(a \\right)} \\sin{\\left(b \\right)} \\cos{\\left(c \\right)} - \\sin{\\left(c \\right)} \\cos{\\left(a \\right)} & \\sin{\\left(a \\right)} \\sin{\\left(c \\right)} + \\sin{\\left(b \\right)} \\cos{\\left(a \\right)} \\cos{\\left(c \\right)} & x\\\\\\sin{\\left(c \\right)} \\cos{\\left(b \\right)} & \\sin{\\left(a \\right)} \\sin{\\left(b \\right)} \\sin{\\left(c \\right)} + \\cos{\\left(a \\right)} \\cos{\\left(c \\right)} & - \\sin{\\left(a \\right)} \\cos{\\left(c \\right)} + \\sin{\\left(b \\right)} \\sin{\\left(c \\right)} \\cos{\\left(a \\right)} & y\\\\- \\sin{\\left(b \\right)} & \\sin{\\left(a \\right)} \\cos{\\left(b \\right)} & \\cos{\\left(a \\right)} \\cos{\\left(b \\right)} & z\\\\0 & 0 & 0 & 1\\end{matrix}\\right]$"
      ],
      "text/plain": [
       "Matrix([\n",
       "[cos(b)*cos(c), sin(a)*sin(b)*cos(c) - sin(c)*cos(a),  sin(a)*sin(c) + sin(b)*cos(a)*cos(c), x],\n",
       "[sin(c)*cos(b), sin(a)*sin(b)*sin(c) + cos(a)*cos(c), -sin(a)*cos(c) + sin(b)*sin(c)*cos(a), y],\n",
       "[      -sin(b),                        sin(a)*cos(b),                         cos(a)*cos(b), z],\n",
       "[            0,                                    0,                                     0, 1]])"
      ]
     },
     "metadata": {},
     "output_type": "display_data"
    }
   ],
   "source": [
    "roll = 30 #deg\n",
    "pitch = 20 #deg\n",
    "yaw = 10 #deg\n",
    "\n",
    "phi = np.array([np.deg2rad(roll), np.deg2rad(pitch), np.deg2rad(yaw)])\n",
    "trans = np.array([1, 2, 3])\n",
    "\n",
    "x = sympy.Symbol('x')\n",
    "y = sympy.Symbol('y')\n",
    "z = sympy.Symbol('z')\n",
    "a = sympy.Symbol('a')\n",
    "b = sympy.Symbol('b')\n",
    "c = sympy.Symbol('c')\n",
    "\n",
    "# SO(3)回転行列\n",
    "Rx = sympy.Matrix(\n",
    "    [[1, 0, 0],\n",
    "     [0, sympy.cos(a), -sympy.sin(a)], \n",
    "     [0, sympy.sin(a), sympy.cos(a)],\n",
    "    ]\n",
    ")\n",
    "Ry = sympy.Matrix(\n",
    "    [[sympy.cos(b), 0, sympy.sin(b)],\n",
    "     [0, 1, 0],\n",
    "     [-sympy.sin(b), 0, sympy.cos(b)]\n",
    "    ]\n",
    ")\n",
    "Rz = sympy.Matrix(\n",
    "    [[sympy.cos(c), -sympy.sin(c), 0],\n",
    "     [sympy.sin(c), sympy.cos(c), 0],\n",
    "     [0, 0, 1]\n",
    "    ]\n",
    ")\n",
    "print(\"ZYXオイラー:\")\n",
    "rot = Rz*Ry*Rx\n",
    "display(sympy.trigsimp(rot))\n",
    "\n",
    "\n",
    "#同時変換行列\n",
    "T = sympy.Matrix([\n",
    "    [*rot[0,:], x],\n",
    "    [*rot[1,:], y],\n",
    "    [*rot[2,:], z],\n",
    "    [0, 0, 0, 1]])\n",
    "print(\"同次変換行列:\")\n",
    "display(T)\n",
    "\n",
    "T1 = T.subs(a, phi[0]).subs(b, phi[1]).subs(c, phi[2]).subs(x, trans[0]).subs(y, trans[1]).subs(z, trans[2])\n",
    "# display(T1)\n",
    "T1 = sympy.matrix2numpy(T1).astype(float)\n",
    "rot1 = R.from_matrix(T1[:-1,:-1])"
   ]
  },
  {
   "cell_type": "markdown",
   "id": "f322eb8b-c357-45c6-8e8c-81f06f4da941",
   "metadata": {},
   "source": [
    "$\\def\\bm{\\boldsymbol}$\n",
    "\n",
    "## ベクトル表示のパラメータ\n",
    "\n",
    "パラメータ$\\bm{\\tau}=[\\bm{\\theta}~~\\bm{\\rho}]^T \\in \\mathbb{R}^6$は以下を満たす\n",
    "$$\n",
    "Exp([\\bm{\\tau]_\\wedge})= \n",
    "\\begin{bmatrix}\n",
    "   Exp([\\bm{\\theta}]_\\wedge]) & V(\\bm{\\theta})\\bm{\\rho}  \\\\\n",
    "   \\bm{0} & 1  \n",
    "\\end{bmatrix}\\\\\n",
    "$$\n",
    "ただし、$\\bm{\\theta}$は$R$を回転ベクトルに変換したものに等しい\n",
    "また、$\\theta=||\\bm{\\theta}||$とすると\n",
    "\n",
    "$$\n",
    "V(\\bm{\\theta})=\\frac{\\sin\\theta}{\\theta}I+\\frac{1-\\cos \\theta}{\\theta} \\frac{[\\bm{\\theta}]_\\wedge}{\\theta}+ \\left(1-\\frac{\\sin \\theta}{\\theta}\\right)\\frac{\\bm{\\theta}\\bm{\\theta}^T}{\\theta^2}\n",
    "$$\n",
    "もしくは、式変形すると下のようにもなる（はず）\n",
    "$$\n",
    "V(\\bm{\\theta})=I+\\frac{1-\\cos \\theta}{\\theta} \\frac{[\\bm{\\theta}]_\\wedge}{\\theta}+ \\left(1-\\frac{\\sin \\theta}{\\theta}\\right)\\frac{[\\bm{\\theta}]_\\wedge^2}{\\theta^2}\n",
    "$$\n",
    "\n",
    "### 参考\n",
    "- https://sterngerlach.github.io/lie-4.html\n",
    "- https://arxiv.org/pdf/1812.01537.pdf"
   ]
  },
  {
   "cell_type": "code",
   "execution_count": 20,
   "id": "e001e268-2c1d-43ef-bcdd-e82e411a2f6a",
   "metadata": {
    "scrolled": true
   },
   "outputs": [
    {
     "name": "stdout",
     "output_type": "stream",
     "text": [
      "bases:\n"
     ]
    },
    {
     "data": {
      "text/latex": [
       "$\\displaystyle \\left[\\begin{matrix}0 & 0 & 0 & 0\\\\0 & 0 & -1 & 0\\\\0 & 1 & 0 & 0\\\\0 & 0 & 0 & 0\\end{matrix}\\right]$"
      ],
      "text/plain": [
       "Matrix([\n",
       "[0, 0,  0, 0],\n",
       "[0, 0, -1, 0],\n",
       "[0, 1,  0, 0],\n",
       "[0, 0,  0, 0]])"
      ]
     },
     "metadata": {},
     "output_type": "display_data"
    },
    {
     "data": {
      "text/latex": [
       "$\\displaystyle \\left[\\begin{matrix}0 & 0 & 1 & 0\\\\0 & 0 & 0 & 0\\\\-1 & 0 & 0 & 0\\\\0 & 0 & 0 & 0\\end{matrix}\\right]$"
      ],
      "text/plain": [
       "Matrix([\n",
       "[ 0, 0, 1, 0],\n",
       "[ 0, 0, 0, 0],\n",
       "[-1, 0, 0, 0],\n",
       "[ 0, 0, 0, 0]])"
      ]
     },
     "metadata": {},
     "output_type": "display_data"
    },
    {
     "data": {
      "text/latex": [
       "$\\displaystyle \\left[\\begin{matrix}0 & -1 & 0 & 0\\\\1 & 0 & 0 & 0\\\\0 & 0 & 0 & 0\\\\0 & 0 & 0 & 0\\end{matrix}\\right]$"
      ],
      "text/plain": [
       "Matrix([\n",
       "[0, -1, 0, 0],\n",
       "[1,  0, 0, 0],\n",
       "[0,  0, 0, 0],\n",
       "[0,  0, 0, 0]])"
      ]
     },
     "metadata": {},
     "output_type": "display_data"
    },
    {
     "data": {
      "text/latex": [
       "$\\displaystyle \\left[\\begin{matrix}0 & 0 & 0 & 1\\\\0 & 0 & 0 & 0\\\\0 & 0 & 0 & 0\\\\0 & 0 & 0 & 0\\end{matrix}\\right]$"
      ],
      "text/plain": [
       "Matrix([\n",
       "[0, 0, 0, 1],\n",
       "[0, 0, 0, 0],\n",
       "[0, 0, 0, 0],\n",
       "[0, 0, 0, 0]])"
      ]
     },
     "metadata": {},
     "output_type": "display_data"
    },
    {
     "data": {
      "text/latex": [
       "$\\displaystyle \\left[\\begin{matrix}0 & 0 & 0 & 0\\\\0 & 0 & 0 & 1\\\\0 & 0 & 0 & 0\\\\0 & 0 & 0 & 0\\end{matrix}\\right]$"
      ],
      "text/plain": [
       "Matrix([\n",
       "[0, 0, 0, 0],\n",
       "[0, 0, 0, 1],\n",
       "[0, 0, 0, 0],\n",
       "[0, 0, 0, 0]])"
      ]
     },
     "metadata": {},
     "output_type": "display_data"
    },
    {
     "data": {
      "text/latex": [
       "$\\displaystyle \\left[\\begin{matrix}0 & 0 & 0 & 0\\\\0 & 0 & 0 & 0\\\\0 & 0 & 0 & 1\\\\0 & 0 & 0 & 0\\end{matrix}\\right]$"
      ],
      "text/plain": [
       "Matrix([\n",
       "[0, 0, 0, 0],\n",
       "[0, 0, 0, 0],\n",
       "[0, 0, 0, 1],\n",
       "[0, 0, 0, 0]])"
      ]
     },
     "metadata": {},
     "output_type": "display_data"
    },
    {
     "name": "stdout",
     "output_type": "stream",
     "text": [
      "Lie algebra:\n",
      "[[ 0.         -0.07752532  0.38485157  0.52821958]\n",
      " [ 0.07752532  0.         -0.48647923  2.67345732]\n",
      " [-0.38485157  0.48647923  0.          2.61728981]\n",
      " [ 0.          0.          0.          0.        ]]\n"
     ]
    }
   ],
   "source": [
    "#基底を計算\n",
    "K = sympy.diff(T, a).subs(a, 0).subs(b, 0).subs(c, 0)\n",
    "L = sympy.diff(T, b).subs(a, 0).subs(b, 0).subs(c, 0)\n",
    "M = sympy.diff(T, c).subs(a, 0).subs(b, 0).subs(c, 0)\n",
    "N = sympy.diff(T, x)\n",
    "O = sympy.diff(T, y)\n",
    "P = sympy.diff(T, z)\n",
    "print(\"bases:\")\n",
    "display(K,L,M,N,O,P)\n",
    "\n",
    "K = sympy.matrix2numpy(K).astype(float)\n",
    "L = sympy.matrix2numpy(L).astype(float)\n",
    "M = sympy.matrix2numpy(M).astype(float)\n",
    "N = sympy.matrix2numpy(N).astype(float)\n",
    "O = sympy.matrix2numpy(O).astype(float)\n",
    "P = sympy.matrix2numpy(P).astype(float)\n",
    "\n",
    "# リー代数を計算\n",
    "theta = rot1.as_rotvec() #回転ベクトルはズルしてsicpy使って変換する…\n",
    "theta_norm = np.linalg.norm(theta)\n",
    "tmp = theta[0] * K + theta[1] * L + theta[2] * M\n",
    "V1 =  np.sin(theta_norm)/theta_norm * np.eye(3) + ((1 - np.cos(theta_norm))/theta_norm**2) * tmp[:-1,:-1] + (1 - np.sin(theta_norm)/theta_norm) * theta.reshape(3,1) @ theta.reshape(1,3) * (1/theta_norm**2)\n",
    "# V1 =  np.eye(3) + ((1 - np.cos(theta_norm))/theta_norm**2) * tmp[:-1,:-1] + (1 - np.sin(theta_norm)/theta_norm) * tmp[:-1,:-1] @ tmp[:-1,:-1] * (1/theta_norm**2) #こっちでも結果は同じ\n",
    "rho1 = np.linalg.inv(V1) @ trans\n",
    "alg1 = tmp + rho1[0] * N + rho1[1] * O + rho1[2] * P\n",
    "\n",
    "print(\"Lie algebra:\\n{}\".format(alg1))"
   ]
  },
  {
   "cell_type": "code",
   "execution_count": 16,
   "id": "f5d66a37-7ef2-4707-a264-3627add79caa",
   "metadata": {},
   "outputs": [
    {
     "data": {
      "text/plain": [
       "array([[ 0.9253 ,  0.01804,  0.3784 ,  1.     ],\n",
       "       [ 0.1632 ,  0.8823 , -0.441  ,  2.     ],\n",
       "       [-0.342  ,  0.4697 ,  0.814  ,  3.     ],\n",
       "       [ 0.     ,  0.     ,  0.     ,  1.     ]], dtype=float16)"
      ]
     },
     "execution_count": 16,
     "metadata": {},
     "output_type": "execute_result"
    }
   ],
   "source": [
    "T1.astype(np.float16)"
   ]
  },
  {
   "cell_type": "code",
   "execution_count": 17,
   "id": "1f013f57-40b8-4beb-8004-72cbaac18d05",
   "metadata": {},
   "outputs": [
    {
     "data": {
      "text/plain": [
       "array([[ 0.9253 ,  0.01804,  0.3784 ,  1.     ],\n",
       "       [ 0.1632 ,  0.8823 , -0.441  ,  2.     ],\n",
       "       [-0.342  ,  0.4697 ,  0.814  ,  3.     ],\n",
       "       [-0.     ,  0.     ,  0.     ,  1.     ]], dtype=float16)"
      ]
     },
     "execution_count": 17,
     "metadata": {},
     "output_type": "execute_result"
    }
   ],
   "source": [
    "expm(alg1).astype(np.float16)"
   ]
  },
  {
   "cell_type": "markdown",
   "id": "7f672dde-3250-4e68-b821-e23e468f72de",
   "metadata": {},
   "source": [
    "一致した!!"
   ]
  },
  {
   "cell_type": "code",
   "execution_count": null,
   "id": "f2d72d4e-718c-4e75-b18a-8928eec0fe4f",
   "metadata": {},
   "outputs": [],
   "source": []
  }
 ],
 "metadata": {
  "kernelspec": {
   "display_name": "Python 3 (ipykernel)",
   "language": "python",
   "name": "python3"
  },
  "language_info": {
   "codemirror_mode": {
    "name": "ipython",
    "version": 3
   },
   "file_extension": ".py",
   "mimetype": "text/x-python",
   "name": "python",
   "nbconvert_exporter": "python",
   "pygments_lexer": "ipython3",
   "version": "3.11.2"
  }
 },
 "nbformat": 4,
 "nbformat_minor": 5
}
