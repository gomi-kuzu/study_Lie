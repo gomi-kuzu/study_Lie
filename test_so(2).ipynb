{
 "cells": [
  {
   "cell_type": "code",
   "execution_count": 1,
   "id": "8dec8d01-2927-4ded-a74e-db3835a421f3",
   "metadata": {},
   "outputs": [],
   "source": [
    "import numpy as np\n",
    "from scipy.linalg import expm\n",
    "import sympy"
   ]
  },
  {
   "cell_type": "markdown",
   "id": "caa515d7-5d30-43fc-927e-bd1f42b494f4",
   "metadata": {},
   "source": [
    "$\\def\\bm{\\boldsymbol}$\n",
    "# リー群の１種、二次元平面の回転　SO(2)の座標変換で使ってみるリー代数\n",
    "- 回転$R_z$に対応するリー代数$\\bm{z}$を考える\n",
    "- 常に可換なこのこの座標変換では、リー代数で計算して指数写像したものと回転行列で計算したものが以下のように一致することを確認する\n",
    "$$\n",
    "Exp([\\bm{x}]_\\wedge + [\\bm{y}]_\\wedge) = R_y R_x\n",
    "$$"
   ]
  },
  {
   "cell_type": "code",
   "execution_count": 2,
   "id": "3fb057c1-3400-4f4b-ad62-5baed61cdc21",
   "metadata": {},
   "outputs": [
    {
     "name": "stdout",
     "output_type": "stream",
     "text": [
      "rot1:\n",
      "[[ 0.8660254 -0.5      ]\n",
      " [ 0.5        0.8660254]] \n",
      "rot2:\n",
      "[[ 0.93969262 -0.34202014]\n",
      " [ 0.34202014  0.93969262]]\n"
     ]
    }
   ],
   "source": [
    "theta_deg_1 = 30 #deg\n",
    "theta_deg_2 = 20 #deg\n",
    "\n",
    "theta1 = np.deg2rad(theta_deg_1) #rad\n",
    "theta2 = np.deg2rad(theta_deg_2) #rad\n",
    "\n",
    "theta = sympy.Symbol('theta')\n",
    "# 回転行列\n",
    "rot = sympy.Matrix(\n",
    "    [[sympy.cos(theta), -sympy.sin(theta)], \n",
    "     [sympy.sin(theta), sympy.cos(theta)]]\n",
    ")\n",
    "\n",
    "# 回転行列1\n",
    "rot1 = sympy.matrix2numpy(rot.subs(theta, theta1)).astype(float)# 回転行列1\n",
    "rot2 = sympy.matrix2numpy(rot.subs(theta, theta2)).astype(float)# 回転行列2\n",
    "\n",
    "\n",
    "print(\"rot1:\\n{} \\nrot2:\\n{}\".format(rot1,rot2))"
   ]
  },
  {
   "cell_type": "markdown",
   "id": "f322eb8b-c357-45c6-8e8c-81f06f4da941",
   "metadata": {},
   "source": [
    "## SO(2)のリー代数の基底\n",
    "単位元は\n",
    "$$\n",
    "\\begin{bmatrix}\n",
    "   \\cos(t) & -\\sin(t) \\\\\n",
    "   \\sin(t) & \\cos(t)\n",
    "\\end{bmatrix}\n",
    "$$\n",
    "\n",
    "$t=0$で微分して\n",
    "$$\n",
    "\\begin{bmatrix}\n",
    "   0 & -1 \\\\\n",
    "   0 & 0\n",
    "\\end{bmatrix}\n",
    "$$"
   ]
  },
  {
   "cell_type": "code",
   "execution_count": 3,
   "id": "e001e268-2c1d-43ef-bcdd-e82e411a2f6a",
   "metadata": {},
   "outputs": [
    {
     "name": "stdout",
     "output_type": "stream",
     "text": [
      "Lie algebra1:\n",
      "[[ 0.         -0.52359878]\n",
      " [ 0.52359878  0.        ]] \n",
      "Lie algebra2:\n",
      "[[ 0.         -0.34906585]\n",
      " [ 0.34906585  0.        ]]\n"
     ]
    }
   ],
   "source": [
    "K = sympy.diff(rot).subs(theta, 0)#微分して0を代入\n",
    "K = sympy.matrix2numpy(K).astype(float)\n",
    "alg1 = theta1 * K\n",
    "alg2 = theta2 * K\n",
    "\n",
    "print(\"Lie algebra1:\\n{} \\nLie algebra2:\\n{}\".format(alg1,alg2))"
   ]
  },
  {
   "cell_type": "code",
   "execution_count": 4,
   "id": "f5d66a37-7ef2-4707-a264-3627add79caa",
   "metadata": {},
   "outputs": [
    {
     "data": {
      "text/plain": [
       "array([[ 0.64278761, -0.76604444],\n",
       "       [ 0.76604444,  0.64278761]])"
      ]
     },
     "execution_count": 4,
     "metadata": {},
     "output_type": "execute_result"
    }
   ],
   "source": [
    "rot2 @ rot1"
   ]
  },
  {
   "cell_type": "code",
   "execution_count": 5,
   "id": "7a019eaa-a3e0-4d3e-837d-2b09d0128a2e",
   "metadata": {},
   "outputs": [
    {
     "data": {
      "text/plain": [
       "array([[ 0.64278761, -0.76604444],\n",
       "       [ 0.76604444,  0.64278761]])"
      ]
     },
     "execution_count": 5,
     "metadata": {},
     "output_type": "execute_result"
    }
   ],
   "source": [
    "expm(alg1 + alg2) #指数写像"
   ]
  },
  {
   "cell_type": "markdown",
   "id": "f1d4a7ee-5a26-4bde-9b90-bdc0568a133f",
   "metadata": {},
   "source": [
    "一致した！！"
   ]
  },
  {
   "cell_type": "code",
   "execution_count": null,
   "id": "ef6c27ae-72d3-446e-a0ca-e59b2c00fa80",
   "metadata": {},
   "outputs": [],
   "source": []
  }
 ],
 "metadata": {
  "kernelspec": {
   "display_name": "Python 3 (ipykernel)",
   "language": "python",
   "name": "python3"
  },
  "language_info": {
   "codemirror_mode": {
    "name": "ipython",
    "version": 3
   },
   "file_extension": ".py",
   "mimetype": "text/x-python",
   "name": "python",
   "nbconvert_exporter": "python",
   "pygments_lexer": "ipython3",
   "version": "3.11.2"
  }
 },
 "nbformat": 4,
 "nbformat_minor": 5
}
